{
 "cells": [
  {
   "cell_type": "code",
   "execution_count": 1,
   "id": "b051ca8b",
   "metadata": {},
   "outputs": [],
   "source": [
    "!pip install -q sentence-transformers faiss-cpu pandas numpy tqdm\n"
   ]
  },
  {
   "cell_type": "code",
   "execution_count": 2,
   "id": "5750eff5",
   "metadata": {},
   "outputs": [
    {
     "name": "stderr",
     "output_type": "stream",
     "text": [
      "/Users/dihan_ahmed/DRIVE_1/UTS/4th semester/ilab/.venv/lib/python3.13/site-packages/tqdm/auto.py:21: TqdmWarning: IProgress not found. Please update jupyter and ipywidgets. See https://ipywidgets.readthedocs.io/en/stable/user_install.html\n",
      "  from .autonotebook import tqdm as notebook_tqdm\n"
     ]
    },
    {
     "name": "stdout",
     "output_type": "stream",
     "text": [
      "CSV: /Users/dihan_ahmed/DRIVE_1/UTS/4th semester/ilab/artifacts/ucf_llm_featrures_2.csv\n",
      "Out: /Users/dihan_ahmed/DRIVE_1/UTS/4th semester/ilab/artifacts/index\n"
     ]
    }
   ],
   "source": [
    "from pathlib import Path\n",
    "import json, math\n",
    "import numpy as np\n",
    "import pandas as pd\n",
    "from tqdm import tqdm\n",
    "\n",
    "from sentence_transformers import SentenceTransformer\n",
    "import torch\n",
    "import faiss\n",
    "\n",
    "# 🔧 EDIT this if your CSV is elsewhere\n",
    "CSV_PATH = Path(\"/Users/dihan_ahmed/DRIVE_1/UTS/4th semester/ilab/artifacts/ucf_llm_featrures_2.csv\")\n",
    "\n",
    "# Where to save the vector index + metadata\n",
    "OUT_DIR = Path(\"artifacts/index\")\n",
    "OUT_DIR.mkdir(parents=True, exist_ok=True)\n",
    "FAISS_PATH   = OUT_DIR / \"faiss.index\"\n",
    "META_PATH    = OUT_DIR / \"meta.jsonl\"\n",
    "MANIFEST_PATH= OUT_DIR / \"manifest.json\"\n",
    "\n",
    "print(\"CSV:\", CSV_PATH.resolve())\n",
    "print(\"Out:\", OUT_DIR.resolve())\n"
   ]
  },
  {
   "cell_type": "code",
   "execution_count": 3,
   "id": "1edf451e",
   "metadata": {},
   "outputs": [
    {
     "name": "stdout",
     "output_type": "stream",
     "text": [
      "Rows: 230\n"
     ]
    },
    {
     "data": {
      "text/html": [
       "<div>\n",
       "<style scoped>\n",
       "    .dataframe tbody tr th:only-of-type {\n",
       "        vertical-align: middle;\n",
       "    }\n",
       "\n",
       "    .dataframe tbody tr th {\n",
       "        vertical-align: top;\n",
       "    }\n",
       "\n",
       "    .dataframe thead th {\n",
       "        text-align: right;\n",
       "    }\n",
       "</style>\n",
       "<table border=\"1\" class=\"dataframe\">\n",
       "  <thead>\n",
       "    <tr style=\"text-align: right;\">\n",
       "      <th></th>\n",
       "      <th>video</th>\n",
       "      <th>scene_idx</th>\n",
       "      <th>t_start</th>\n",
       "      <th>t_end</th>\n",
       "      <th>sentence</th>\n",
       "      <th>attributes</th>\n",
       "      <th>actions</th>\n",
       "      <th>interactions</th>\n",
       "    </tr>\n",
       "  </thead>\n",
       "  <tbody>\n",
       "    <tr>\n",
       "      <th>0</th>\n",
       "      <td>Abuse001_x264</td>\n",
       "      <td>0</td>\n",
       "      <td>0.0</td>\n",
       "      <td>5.3</td>\n",
       "      <td>A woman with short hair, slightly fat, wearing...</td>\n",
       "      <td>female;short hair;slightly fat</td>\n",
       "      <td>picking up a book;opening it to read</td>\n",
       "      <td>table</td>\n",
       "    </tr>\n",
       "    <tr>\n",
       "      <th>1</th>\n",
       "      <td>Abuse001_x264</td>\n",
       "      <td>1</td>\n",
       "      <td>7.0</td>\n",
       "      <td>8.5</td>\n",
       "      <td>A man wearing a white shirt and black pants en...</td>\n",
       "      <td>male;white shirt;black pants</td>\n",
       "      <td>entered the house;walked towards</td>\n",
       "      <td>short-haired and fat woman</td>\n",
       "    </tr>\n",
       "    <tr>\n",
       "      <th>2</th>\n",
       "      <td>Abuse001_x264</td>\n",
       "      <td>2</td>\n",
       "      <td>7.2</td>\n",
       "      <td>8.5</td>\n",
       "      <td>A man wearing a black shirt and black pants en...</td>\n",
       "      <td>male;black shirt;black pants</td>\n",
       "      <td>entered the house;walked towards</td>\n",
       "      <td>short-haired and fat woman</td>\n",
       "    </tr>\n",
       "  </tbody>\n",
       "</table>\n",
       "</div>"
      ],
      "text/plain": [
       "           video  scene_idx  t_start  t_end  \\\n",
       "0  Abuse001_x264          0      0.0    5.3   \n",
       "1  Abuse001_x264          1      7.0    8.5   \n",
       "2  Abuse001_x264          2      7.2    8.5   \n",
       "\n",
       "                                            sentence  \\\n",
       "0  A woman with short hair, slightly fat, wearing...   \n",
       "1  A man wearing a white shirt and black pants en...   \n",
       "2  A man wearing a black shirt and black pants en...   \n",
       "\n",
       "                       attributes                               actions  \\\n",
       "0  female;short hair;slightly fat  picking up a book;opening it to read   \n",
       "1    male;white shirt;black pants      entered the house;walked towards   \n",
       "2    male;black shirt;black pants      entered the house;walked towards   \n",
       "\n",
       "                 interactions  \n",
       "0                       table  \n",
       "1  short-haired and fat woman  \n",
       "2  short-haired and fat woman  "
      ]
     },
     "execution_count": 3,
     "metadata": {},
     "output_type": "execute_result"
    }
   ],
   "source": [
    "#load the extracted features csv\n",
    "assert CSV_PATH.exists(), f\"CSV not found at {CSV_PATH}\"\n",
    "df = pd.read_csv(CSV_PATH)\n",
    "\n",
    "# Normalize/clean a bit\n",
    "for col in [\"attributes\", \"actions\", \"interactions\", \"sentence\"]:\n",
    "    if col in df.columns:\n",
    "        df[col] = df[col].fillna(\"\").astype(str).str.strip()\n",
    "    else:\n",
    "        df[col] = \"\"\n",
    "\n",
    "df[\"video\"]     = df[\"video\"].astype(str)\n",
    "df[\"scene_idx\"] = df[\"scene_idx\"].astype(int)\n",
    "df[\"t_start\"]   = pd.to_numeric(df[\"t_start\"], errors=\"coerce\")\n",
    "df[\"t_end\"]     = pd.to_numeric(df[\"t_end\"], errors=\"coerce\")\n",
    "\n",
    "print(\"Rows:\", len(df))\n",
    "df.head(3)\n"
   ]
  },
  {
   "cell_type": "code",
   "execution_count": 5,
   "id": "92d1ebdd",
   "metadata": {},
   "outputs": [
    {
     "name": "stdout",
     "output_type": "stream",
     "text": [
      "Usable rows: 230\n"
     ]
    },
    {
     "data": {
      "text/html": [
       "<div>\n",
       "<style scoped>\n",
       "    .dataframe tbody tr th:only-of-type {\n",
       "        vertical-align: middle;\n",
       "    }\n",
       "\n",
       "    .dataframe tbody tr th {\n",
       "        vertical-align: top;\n",
       "    }\n",
       "\n",
       "    .dataframe thead th {\n",
       "        text-align: right;\n",
       "    }\n",
       "</style>\n",
       "<table border=\"1\" class=\"dataframe\">\n",
       "  <thead>\n",
       "    <tr style=\"text-align: right;\">\n",
       "      <th></th>\n",
       "      <th>doc_id</th>\n",
       "      <th>interaction</th>\n",
       "    </tr>\n",
       "  </thead>\n",
       "  <tbody>\n",
       "    <tr>\n",
       "      <th>0</th>\n",
       "      <td>Abuse001_x264__0</td>\n",
       "      <td>attributes: female;short hair;slightly fat | a...</td>\n",
       "    </tr>\n",
       "    <tr>\n",
       "      <th>1</th>\n",
       "      <td>Abuse001_x264__1</td>\n",
       "      <td>attributes: male;white shirt;black pants | act...</td>\n",
       "    </tr>\n",
       "    <tr>\n",
       "      <th>2</th>\n",
       "      <td>Abuse001_x264__2</td>\n",
       "      <td>attributes: male;black shirt;black pants | act...</td>\n",
       "    </tr>\n",
       "    <tr>\n",
       "      <th>3</th>\n",
       "      <td>Abuse001_x264__3</td>\n",
       "      <td>sentence: A man wearing a white shirt and blac...</td>\n",
       "    </tr>\n",
       "    <tr>\n",
       "      <th>4</th>\n",
       "      <td>Abuse001_x264__4</td>\n",
       "      <td>attributes: male;black clothes | actions: punc...</td>\n",
       "    </tr>\n",
       "    <tr>\n",
       "      <th>5</th>\n",
       "      <td>Abuse001_x264__5</td>\n",
       "      <td>attributes: wooden;red | actions: fell;knocked...</td>\n",
       "    </tr>\n",
       "    <tr>\n",
       "      <th>6</th>\n",
       "      <td>Abuse001_x264__6</td>\n",
       "      <td>attributes: female;short hair;fat figure | act...</td>\n",
       "    </tr>\n",
       "    <tr>\n",
       "      <th>7</th>\n",
       "      <td>Abuse001_x264__7</td>\n",
       "      <td>attributes: unknown;short hair;slightly fat;wh...</td>\n",
       "    </tr>\n",
       "    <tr>\n",
       "      <th>8</th>\n",
       "      <td>Abuse001_x264__8</td>\n",
       "      <td>attributes: unknown;short hair;slightly fat | ...</td>\n",
       "    </tr>\n",
       "    <tr>\n",
       "      <th>9</th>\n",
       "      <td>Abuse002_x264__0</td>\n",
       "      <td>attributes: smooth;traffic;green light;vehicle...</td>\n",
       "    </tr>\n",
       "  </tbody>\n",
       "</table>\n",
       "</div>"
      ],
      "text/plain": [
       "             doc_id                                        interaction\n",
       "0  Abuse001_x264__0  attributes: female;short hair;slightly fat | a...\n",
       "1  Abuse001_x264__1  attributes: male;white shirt;black pants | act...\n",
       "2  Abuse001_x264__2  attributes: male;black shirt;black pants | act...\n",
       "3  Abuse001_x264__3  sentence: A man wearing a white shirt and blac...\n",
       "4  Abuse001_x264__4  attributes: male;black clothes | actions: punc...\n",
       "5  Abuse001_x264__5  attributes: wooden;red | actions: fell;knocked...\n",
       "6  Abuse001_x264__6  attributes: female;short hair;fat figure | act...\n",
       "7  Abuse001_x264__7  attributes: unknown;short hair;slightly fat;wh...\n",
       "8  Abuse001_x264__8  attributes: unknown;short hair;slightly fat | ...\n",
       "9  Abuse002_x264__0  attributes: smooth;traffic;green light;vehicle..."
      ]
     },
     "execution_count": 5,
     "metadata": {},
     "output_type": "execute_result"
    }
   ],
   "source": [
    "#build interactions strings (where we'll embed)\n",
    "def make_interaction_string(row) -> str:\n",
    "    # Keep gender inside attributes (as you requested)\n",
    "    bits = []\n",
    "    if row[\"attributes\"]:\n",
    "        bits.append(f\"attributes: {row['attributes']}\")\n",
    "    if row[\"actions\"]:\n",
    "        bits.append(f\"actions: {row['actions']}\")\n",
    "    if row[\"interactions\"]:\n",
    "        bits.append(f\"interacts_with: {row['interactions']}\")\n",
    "    # Include the natural sentence (helps retrieval phrasing)\n",
    "    if row[\"sentence\"]:\n",
    "        bits.append(f\"sentence: {row['sentence']}\")\n",
    "    # Join with clear separators\n",
    "    return \" | \".join(bits)\n",
    "\n",
    "df[\"interaction\"] = df.apply(make_interaction_string, axis=1)\n",
    "\n",
    "# Create stable doc ids per row\n",
    "df[\"doc_id\"] = df.apply(lambda r: f\"{r['video']}__{int(r['scene_idx'])}\", axis=1)\n",
    "\n",
    "# Drop rows with no content at all (rare)\n",
    "df = df[df[\"interaction\"].str.len() > 0].reset_index(drop=True)\n",
    "print(\"Usable rows:\", len(df))\n",
    "df[[\"doc_id\",\"interaction\"]].head(10)\n"
   ]
  },
  {
   "cell_type": "code",
   "execution_count": 6,
   "id": "0c897e6c",
   "metadata": {},
   "outputs": [
    {
     "name": "stdout",
     "output_type": "stream",
     "text": [
      "Model: sentence-transformers/all-MiniLM-L6-v2 | device: mps\n"
     ]
    }
   ],
   "source": [
    "# load the embedding model\n",
    "EMBED_MODEL = \"sentence-transformers/all-MiniLM-L6-v2\"  # 384-dim, lightweight, good quality\n",
    "device = \"mps\" if torch.backends.mps.is_available() else (\"cuda\" if torch.cuda.is_available() else \"cpu\")\n",
    "model = SentenceTransformer(EMBED_MODEL, device=device)\n",
    "print(\"Model:\", EMBED_MODEL, \"| device:\", device)\n"
   ]
  },
  {
   "cell_type": "code",
   "execution_count": 7,
   "id": "faad9d8d",
   "metadata": {},
   "outputs": [
    {
     "name": "stderr",
     "output_type": "stream",
     "text": [
      "Batches: 100%|██████████| 1/1 [00:01<00:00,  1.56s/it]"
     ]
    },
    {
     "name": "stdout",
     "output_type": "stream",
     "text": [
      "Embeddings: (230, 384) float32\n"
     ]
    },
    {
     "name": "stderr",
     "output_type": "stream",
     "text": [
      "\n"
     ]
    }
   ],
   "source": [
    "#embeded interaction strings\n",
    "texts = df[\"interaction\"].tolist()\n",
    "\n",
    "# Encode in batches; convert_to_numpy gives float32 numpy array\n",
    "embeddings = model.encode(\n",
    "    texts,\n",
    "    batch_size=256,\n",
    "    normalize_embeddings=False,   # we'll L2-normalize ourselves for cosine\n",
    "    convert_to_numpy=True,\n",
    "    show_progress_bar=True,\n",
    ")\n",
    "\n",
    "# L2-normalize → cosine similarity via inner product\n",
    "norms = np.linalg.norm(embeddings, axis=1, keepdims=True) + 1e-12\n",
    "embeddings = embeddings / norms\n",
    "\n",
    "print(\"Embeddings:\", embeddings.shape, embeddings.dtype)\n"
   ]
  },
  {
   "cell_type": "code",
   "execution_count": 8,
   "id": "7a5ae998",
   "metadata": {},
   "outputs": [
    {
     "name": "stdout",
     "output_type": "stream",
     "text": [
      "FAISS ntotal: 230\n",
      "✅ Saved:\n",
      " - artifacts/index/faiss.index\n",
      " - artifacts/index/meta.jsonl\n",
      " - artifacts/index/manifest.json\n"
     ]
    }
   ],
   "source": [
    "#build and save the faiss index\n",
    "dim = embeddings.shape[1]\n",
    "index = faiss.IndexFlatIP(dim)         # inner product\n",
    "index.add(embeddings.astype(\"float32\"))\n",
    "print(\"FAISS ntotal:\", index.ntotal)\n",
    "\n",
    "# Save FAISS index\n",
    "faiss.write_index(index, str(FAISS_PATH))\n",
    "\n",
    "# Save row-level metadata as JSONL aligned to vector order\n",
    "with META_PATH.open(\"w\", encoding=\"utf-8\") as f:\n",
    "    for i, row in df.iterrows():\n",
    "        meta = {\n",
    "            \"idx\": i,\n",
    "            \"doc_id\": row[\"doc_id\"],\n",
    "            \"video\": row[\"video\"],\n",
    "            \"scene_idx\": int(row[\"scene_idx\"]),\n",
    "            \"t_start\": None if math.isnan(row[\"t_start\"]) else float(row[\"t_start\"]),\n",
    "            \"t_end\":   None if math.isnan(row[\"t_end\"])   else float(row[\"t_end\"]),\n",
    "            \"sentence\": row[\"sentence\"],\n",
    "            \"attributes\": row[\"attributes\"],\n",
    "            \"actions\": row[\"actions\"],\n",
    "            \"interactions\": row[\"interactions\"],\n",
    "            \"interaction_string\": row[\"interaction\"],\n",
    "        }\n",
    "        f.write(json.dumps(meta, ensure_ascii=False) + \"\\n\")\n",
    "\n",
    "# Write a small manifest for reproducibility\n",
    "manifest = {\n",
    "    \"embedding_model\": EMBED_MODEL,\n",
    "    \"embedding_dim\": dim,\n",
    "    \"index_type\": \"IndexFlatIP (cosine via normalized vectors)\",\n",
    "    \"vectors\": int(index.ntotal),\n",
    "    \"sources\": {\n",
    "        \"csv\": str(CSV_PATH.resolve()),\n",
    "    },\n",
    "    \"files\": {\n",
    "        \"faiss_index\": str(FAISS_PATH.resolve()),\n",
    "        \"metadata_jsonl\": str(META_PATH.resolve()),\n",
    "    }\n",
    "}\n",
    "MANIFEST_PATH.write_text(json.dumps(manifest, indent=2), encoding=\"utf-8\")\n",
    "\n",
    "print(\"✅ Saved:\")\n",
    "print(\" -\", FAISS_PATH)\n",
    "print(\" -\", META_PATH)\n",
    "print(\" -\", MANIFEST_PATH)\n"
   ]
  },
  {
   "cell_type": "code",
   "execution_count": 9,
   "id": "47f79e71",
   "metadata": {},
   "outputs": [],
   "source": [
    "# Lightweight search function (for quick local testing)\n",
    "\n",
    "# Utility: load FAISS + metadata back\n",
    "def load_index_and_meta():\n",
    "    idx = faiss.read_index(str(FAISS_PATH))\n",
    "    metas = []\n",
    "    with META_PATH.open(\"r\", encoding=\"utf-8\") as f:\n",
    "        for line in f:\n",
    "            metas.append(json.loads(line))\n",
    "    return idx, metas\n",
    "\n",
    "index, metas = load_index_and_meta()\n",
    "\n",
    "def search(query: str, top_k: int = 5):\n",
    "    # embed query\n",
    "    qv = model.encode([query], normalize_embeddings=False, convert_to_numpy=True)\n",
    "    qv = qv / (np.linalg.norm(qv, axis=1, keepdims=True) + 1e-12)\n",
    "    # search\n",
    "    D, I = index.search(qv.astype(\"float32\"), top_k)\n",
    "    I, D = I[0], D[0]\n",
    "    results = []\n",
    "    for rank, (i, score) in enumerate(zip(I, D), start=1):\n",
    "        if int(i) < 0: \n",
    "            continue\n",
    "        m = metas[int(i)]\n",
    "        results.append({\n",
    "            \"rank\": rank,\n",
    "            \"score\": float(score),\n",
    "            \"video\": m[\"video\"],\n",
    "            \"time\": [m[\"t_start\"], m[\"t_end\"]],\n",
    "            \"sentence\": m[\"sentence\"],\n",
    "            \"attributes\": m[\"attributes\"],\n",
    "            \"actions\": m[\"actions\"],\n",
    "            \"interactions\": m[\"interactions\"],\n",
    "        })\n",
    "    return results\n"
   ]
  },
  {
   "cell_type": "code",
   "execution_count": 10,
   "id": "8d47ed43",
   "metadata": {},
   "outputs": [
    {
     "name": "stdout",
     "output_type": "stream",
     "text": [
      "\n",
      "🔎 Query: woman picks up a book and reads\n",
      "  1. (0.475) Abuse001_x264  t=[0.0, 5.3]  | A woman with short hair, slightly fat, wearing a white top and black pants stood in front of the table, picked up a book from the table, and opened it to read\n",
      "  2. (0.316) Abuse008_x264  t=[176.2, 197.3]  | The female policeman held a book in her hand and bent down to ask the woman. The male policeman sat behind the woman, and the woman leaned on the male policeman’s hand.\n",
      "  3. (0.297) Abuse002_x264  t=[14.3, 16.5]  | The woman in the couple picks up the child's things from the ground, and the man in the couple stands holding the child\n",
      "  4. (0.267) Abuse001_x264  t=[8.9, 11.2]  | The woman fell to the ground in pain, and the book in her hand fell to the ground when she fell. At the same time, she knocked the red wooden table in front of her crookedly. There were three things on the table.\n",
      "  5. (0.215) Abuse008_x264  t=[145.3, 149.6]  | The police pushed the woman hard into the prison. The woman fell to the ground and hit her head on the bed.\n",
      "\n",
      "🔎 Query: policeman watching and retreating\n",
      "  1. (0.699) Abuse004_x264  t=[44.9, 49.2]  | The other policeman watched silently retreating, sometimes stepping forward, sometimes retreating, and then walked out, while the policeman who beat the prisoner with a stick continued.\n",
      "  2. (0.588) Abuse004_x264  t=[530.3, 533.2]  | Then another policeman followed out.\n",
      "  3. (0.540) Abuse006_x264  t=[43.0, 50.1]  | A policeman stood up and circled around the three policemen who were beating the people on the ground. He walked to the side of the heads on the ground and squatted down to look.\n",
      "  4. (0.540) Abuse006_x264  t=[99.6, 107.5]  | The man on the ground was struggling and rolling. One policeman was still bending down and holding him down. Another policeman came over to see the situation, and the other policemen stood and watched.\n",
      "  5. (0.533) Abuse004_x264  t=[159.4, 168.2]  | Another bald policeman in black uniform walked to the door and looked around, then came back and watched the prisoner being beaten.\n",
      "\n",
      "🔎 Query: pushing a wheelchair\n",
      "  1. (0.645) Abuse003_x264  t=[36.9, 38.0]  | The wheelchair carrying the old man suddenly slid towards the wall on the right side of the corridor. The woman pushing him immediately held the wheelchair hard to prevent it from hitting the wall.\n",
      "  2. (0.611) Abuse003_x264  t=[102.8, 107.2]  | The woman went around behind the wheelchair, pushed the wheelchair and turned around, pushing the old man in the wheelchair forward.\n",
      "  3. (0.589) Abuse003_x264  t=[30.7, 31.9]  | A woman in black short-sleeves pushed an old man in a wheelchair to the left wall and released her hand pushing the wheelchair. The old man in the wheelchair bumped with the wheelchair. toward the wall.\n",
      "  4. (0.584) Abuse003_x264  t=[38.0, 38.9]  | The woman pushing the wheelchair released her hands, and the old man sat on the wheelchair and slid by himself.\n",
      "  5. (0.578) Abuse003_x264  t=[31.8, 32.7]  | The wheelchair carrying an old man slid forward along the left wall of the corridor\n"
     ]
    }
   ],
   "source": [
    "# try a new search sanity check\n",
    "tests = [\n",
    "    \"woman picks up a book and reads\",\n",
    "    \"policeman watching and retreating\",\n",
    "    \"pushing a wheelchair\",\n",
    "]\n",
    "\n",
    "for q in tests:\n",
    "    print(\"\\n🔎 Query:\", q)\n",
    "    for r in search(q, top_k=5):\n",
    "        print(f\"  {r['rank']}. ({r['score']:.3f}) {r['video']}  t={r['time']}  | {r['sentence']}\")\n"
   ]
  },
  {
   "cell_type": "code",
   "execution_count": null,
   "id": "08d4d980",
   "metadata": {},
   "outputs": [],
   "source": []
  }
 ],
 "metadata": {
  "kernelspec": {
   "display_name": ".venv",
   "language": "python",
   "name": "python3"
  },
  "language_info": {
   "codemirror_mode": {
    "name": "ipython",
    "version": 3
   },
   "file_extension": ".py",
   "mimetype": "text/x-python",
   "name": "python",
   "nbconvert_exporter": "python",
   "pygments_lexer": "ipython3",
   "version": "3.13.1"
  }
 },
 "nbformat": 4,
 "nbformat_minor": 5
}
